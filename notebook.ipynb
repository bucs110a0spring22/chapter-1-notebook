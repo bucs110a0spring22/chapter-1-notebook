{
 "cells": [
  {
   "cell_type": "markdown",
   "metadata": {},
   "source": [
    "## Introduction to Programming in Python\n",
    "\n",
    "# Ch 1: Python Data\n"
   ]
  },
  {
   "cell_type": "markdown",
   "metadata": {},
   "source": [
    "**Vending Machines**\n",
    "\n",
    "### Operations\n",
    "\n",
    "* input: Take in Money\n",
    "* math and logic: Count Money\n",
    "* output: Dispense Item\n",
    "* selection: Distinguish between different items\n",
    "* repitition: go through items to locate a specific item"
   ]
  },
  {
   "cell_type": "markdown",
   "metadata": {},
   "source": [
    "## Programming\n",
    "\n",
    "Computers understand 1's and 0's\n",
    "\n",
    "All programs are written in plain text\n",
    "  *programming in plain text is hard*"
   ]
  },
  {
   "cell_type": "markdown",
   "metadata": {},
   "source": [
    "## Why Python?"
   ]
  },
  {
   "cell_type": "markdown",
   "metadata": {},
   "source": [
    "simplified syntax"
   ]
  },
  {
   "cell_type": "code",
   "execution_count": 1,
   "metadata": {},
   "outputs": [
    {
     "ename": "SyntaxError",
     "evalue": "invalid syntax (3412669030.py, line 2)",
     "output_type": "error",
     "traceback": [
      "\u001b[0;36m  File \u001b[0;32m\"/var/folders/9w/hmd01_xj44d34jp86bj192nr0000gn/T/ipykernel_17536/3412669030.py\"\u001b[0;36m, line \u001b[0;32m2\u001b[0m\n\u001b[0;31m    public class Main{\u001b[0m\n\u001b[0m           ^\u001b[0m\n\u001b[0;31mSyntaxError\u001b[0m\u001b[0;31m:\u001b[0m invalid syntax\n"
     ]
    }
   ],
   "source": [
    "#java\n",
    "# public class Main{\n",
    "#     public static void main(argc, argv){\n",
    "#         System.out.println(\"hi\")\n",
    "#     }\n",
    "\n",
    "# }\n",
    "\n",
    "#c\n",
    "#include <stdio>\n",
    "# int main(){\n",
    "#     printf(\"%s\\n\", \"Hi\");\n",
    "#     return 0;\n",
    "# }\n",
    "\n",
    "#Python\n",
    "print(\"hi\")"
   ]
  },
  {
   "cell_type": "markdown",
   "metadata": {},
   "source": [
    "#interpreter\n",
    "\n",
    "python interpreted, and is scripting language\n",
    "\n",
    "* each line is translated as it is run"
   ]
  },
  {
   "cell_type": "code",
   "execution_count": 2,
   "metadata": {},
   "outputs": [
    {
     "name": "stdout",
     "output_type": "stream",
     "text": [
      "Hi class\n"
     ]
    }
   ],
   "source": [
    "print(\"Hi class\")"
   ]
  },
  {
   "cell_type": "markdown",
   "metadata": {},
   "source": [
    "## Python Data Objects"
   ]
  },
  {
   "cell_type": "markdown",
   "metadata": {},
   "source": [
    "*Learn a little about Python Data Objects and how to use them*\n"
   ]
  },
  {
   "cell_type": "markdown",
   "metadata": {},
   "source": [
    "**Vending Machine**\n",
    "\n",
    "* actions\n",
    "    * count money\n",
    "    * compares values\n",
    "    * displays messages\n",
    "    * dispense items\n",
    "* data\n",
    "    * items\n",
    "    * prices of each item\n",
    "    * the different types of items according to their selection code\n",
    "    * the location of the item\n",
    "    * how much money the user has entered"
   ]
  },
  {
   "cell_type": "markdown",
   "metadata": {},
   "source": [
    "**Separate things that change from things that stay the same**"
   ]
  },
  {
   "cell_type": "markdown",
   "metadata": {},
   "source": [
    "* Actions (algorithms) stay the same\n",
    "* Data changes"
   ]
  },
  {
   "cell_type": "markdown",
   "metadata": {},
   "source": [
    " mutability vs immutability\n",
    "\n",
    " *Mutability*: \"you can change it after it is created\"  \n",
    " *Immutability*: \"you can't change it after it is created\""
   ]
  },
  {
   "cell_type": "code",
   "execution_count": 2,
   "metadata": {},
   "outputs": [
    {
     "name": "stdout",
     "output_type": "stream",
     "text": [
      "Hello\n",
      "Goodbye\n"
     ]
    }
   ],
   "source": [
    "print(\"Hello\")\n",
    "print(\"Goodbye\")"
   ]
  },
  {
   "cell_type": "markdown",
   "metadata": {},
   "source": [
    "All data in Python is referred to as an **object**\n",
    "\n",
    "*object oriented programming language*\n",
    "\n",
    "Vending Machine Objects:\n",
    "* currency\n",
    "    * cash\n",
    "    * coins\n",
    "    * card\n",
    "\n",
    "They are all forms of money\n",
    "\n",
    "#### Type"
   ]
  },
  {
   "cell_type": "code",
   "execution_count": 9,
   "metadata": {},
   "outputs": [
    {
     "name": "stdout",
     "output_type": "stream",
     "text": [
      "1 1.0 1\n",
      "<class 'int'>\n",
      "<class 'float'>\n",
      "<class 'str'>\n",
      "2\n",
      "2.0\n",
      "2.0\n",
      "1 + 1\n"
     ]
    }
   ],
   "source": [
    "print(1, 1.0, '1')\n",
    "\n",
    "print( type(1) )#class means type\n",
    "print( type(1.0) )\n",
    "print( type(\"1\") )\n",
    "\n",
    "print( 1 + 1 )\n",
    "print( 1.0 + 1.0 )\n",
    "print( 1 + 1.0 )\n",
    "print( \"1 + 1\" )"
   ]
  },
  {
   "cell_type": "markdown",
   "metadata": {},
   "source": [
    "The type of data determines it's actions, a.k.a the algorithms that are valid with this data"
   ]
  },
  {
   "cell_type": "code",
   "execution_count": 12,
   "metadata": {},
   "outputs": [
    {
     "name": "stdout",
     "output_type": "stream",
     "text": [
      "49\n",
      "65\n",
      "Bruce's Beard\n",
      "We are the knights who say, \"Ni!\"\n",
      "\n",
      "    hello\n",
      " how are you\n",
      "\n"
     ]
    },
    {
     "data": {
      "text/plain": [
       "'\\n\\n'"
      ]
     },
     "execution_count": 12,
     "metadata": {},
     "output_type": "execute_result"
    }
   ],
   "source": [
    "print( ord(\"1\") )\n",
    "print( ord(\"A\") )\n",
    "\n",
    "print( \"Bruce's Beard\" ) # balance my quotes\n",
    "print( 'We are the knights who say, \"Ni!\"' )\n",
    "\n",
    "#Docstrings\n",
    "print(\"\"\"\n",
    "    hello\n",
    " how are you\n",
    "\"\"\")\n",
    "\n",
    "'''\n",
    " more stuff\n",
    " that is formatted\n",
    "'''\n"
   ]
  },
  {
   "cell_type": "code",
   "execution_count": 16,
   "metadata": {},
   "outputs": [
    {
     "name": "stdout",
     "output_type": "stream",
     "text": [
      "This Sunday Sunday Sunday \n"
     ]
    }
   ],
   "source": [
    "print(\"This \" + \"Sunday \" * 3)\n",
    "\n"
   ]
  },
  {
   "cell_type": "code",
   "execution_count": 18,
   "metadata": {},
   "outputs": [
    {
     "name": "stdout",
     "output_type": "stream",
     "text": [
      "\n"
     ]
    }
   ],
   "source": [
    "print(\"\")"
   ]
  },
  {
   "cell_type": "code",
   "execution_count": 24,
   "metadata": {},
   "outputs": [
    {
     "name": "stdout",
     "output_type": "stream",
     "text": [
      "5.0\n",
      "5\n",
      "-5\n",
      "1\n",
      "1.0\n",
      "1\n"
     ]
    }
   ],
   "source": [
    "int\n",
    "float\n",
    "\n",
    "5 # int, cash\n",
    "1.25 # float, coins\n",
    "\n",
    "print( float(5) )\n",
    "print( int(5.6) )\n",
    "print( int(-5.6) )\n",
    "print(str(1))\n",
    "print(float(\"1.0\"))\n",
    "print(int(\"1\"))"
   ]
  },
  {
   "cell_type": "code",
   "execution_count": 29,
   "metadata": {},
   "outputs": [
    {
     "name": "stdout",
     "output_type": "stream",
     "text": [
      "2\n",
      "0\n",
      "1\n",
      "0.5\n",
      "0\n",
      "-1\n",
      "2\n"
     ]
    }
   ],
   "source": [
    "print(1 + 1)\n",
    "print(1 - 1)\n",
    "print(1 * 1) #multiplication\n",
    "print(1 / 2)\n",
    "print(1 // 2)\n",
    "print(-1 // 2)#integer division\n",
    "\n",
    "print( 2 % 4 ) # operand divided by operand equals who cares, what's the remainder"
   ]
  },
  {
   "cell_type": "markdown",
   "metadata": {},
   "source": [
    "Without modulo we would not have (pseudo) random numbers\n",
    "\n"
   ]
  },
  {
   "cell_type": "code",
   "execution_count": 34,
   "metadata": {},
   "outputs": [
    {
     "name": "stdout",
     "output_type": "stream",
     "text": [
      "3\n",
      "-3\n",
      "1\n",
      "-1\n"
     ]
    }
   ],
   "source": [
    "print(7 % 4)\n",
    "print(-7 % -4) #result is always the same sign as the denominator\n",
    "print(-7 % 4) #When the numerator and denominator have different signs, counter clockwise\n",
    "print(7 % -4)"
   ]
  }
 ],
 "metadata": {
  "interpreter": {
   "hash": "d396f3607e8b3e6bfc2fdae356169562b28e273c2fda1d30f25e33089c9c8fcf"
  },
  "kernelspec": {
   "display_name": "Python 3.9.9 64-bit ('3.9.9': pyenv)",
   "language": "python",
   "name": "python3"
  },
  "language_info": {
   "codemirror_mode": {
    "name": "ipython",
    "version": 3
   },
   "file_extension": ".py",
   "mimetype": "text/x-python",
   "name": "python",
   "nbconvert_exporter": "python",
   "pygments_lexer": "ipython3",
   "version": "3.9.9"
  },
  "orig_nbformat": 4
 },
 "nbformat": 4,
 "nbformat_minor": 2
}
