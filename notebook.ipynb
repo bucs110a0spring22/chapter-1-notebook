{
 "cells": [
  {
   "cell_type": "markdown",
   "metadata": {},
   "source": [
    "## Introduction to Programming in Python\n",
    "\n",
    "# Ch 1: Python Data\n"
   ]
  },
  {
   "cell_type": "markdown",
   "metadata": {},
   "source": [
    "**Vending Machines**\n",
    "\n",
    "### Operations\n",
    "\n",
    "* input: Take in Money\n",
    "* math and logic: Count Money\n",
    "* output: Dispense Item\n",
    "* selection: Distinguish between different items\n",
    "* repitition: go through items to locate a specific item"
   ]
  },
  {
   "cell_type": "markdown",
   "metadata": {},
   "source": [
    "## Programming\n",
    "\n",
    "Computers understand 1's and 0's\n",
    "\n",
    "All programs are written in plain text\n",
    "  *programming in plain text is hard*"
   ]
  },
  {
   "cell_type": "markdown",
   "metadata": {},
   "source": [
    "## Why Python?"
   ]
  },
  {
   "cell_type": "markdown",
   "metadata": {},
   "source": [
    "simplified syntax"
   ]
  },
  {
   "cell_type": "code",
   "execution_count": 1,
   "metadata": {},
   "outputs": [
    {
     "ename": "SyntaxError",
     "evalue": "invalid syntax (3412669030.py, line 2)",
     "output_type": "error",
     "traceback": [
      "\u001b[0;36m  File \u001b[0;32m\"/var/folders/9w/hmd01_xj44d34jp86bj192nr0000gn/T/ipykernel_17536/3412669030.py\"\u001b[0;36m, line \u001b[0;32m2\u001b[0m\n\u001b[0;31m    public class Main{\u001b[0m\n\u001b[0m           ^\u001b[0m\n\u001b[0;31mSyntaxError\u001b[0m\u001b[0;31m:\u001b[0m invalid syntax\n"
     ]
    }
   ],
   "source": [
    "#java\n",
    "# public class Main{\n",
    "#     public static void main(argc, argv){\n",
    "#         System.out.println(\"hi\")\n",
    "#     }\n",
    "\n",
    "# }\n",
    "\n",
    "#c\n",
    "#include <stdio>\n",
    "# int main(){\n",
    "#     printf(\"%s\\n\", \"Hi\");\n",
    "#     return 0;\n",
    "# }\n",
    "\n",
    "#Python\n",
    "print(\"hi\")"
   ]
  },
  {
   "cell_type": "markdown",
   "metadata": {},
   "source": [
    "#interpreter\n",
    "\n",
    "python interpreted, and is scripting language\n",
    "\n",
    "* each line is translated as it is run"
   ]
  },
  {
   "cell_type": "code",
   "execution_count": 2,
   "metadata": {},
   "outputs": [
    {
     "name": "stdout",
     "output_type": "stream",
     "text": [
      "Hi class\n"
     ]
    }
   ],
   "source": [
    "print(\"Hi class\")"
   ]
  },
  {
   "cell_type": "markdown",
   "metadata": {},
   "source": []
  }
 ],
 "metadata": {
  "interpreter": {
   "hash": "d396f3607e8b3e6bfc2fdae356169562b28e273c2fda1d30f25e33089c9c8fcf"
  },
  "kernelspec": {
   "display_name": "Python 3.9.9 64-bit ('3.9.9': pyenv)",
   "language": "python",
   "name": "python3"
  },
  "language_info": {
   "codemirror_mode": {
    "name": "ipython",
    "version": 3
   },
   "file_extension": ".py",
   "mimetype": "text/x-python",
   "name": "python",
   "nbconvert_exporter": "python",
   "pygments_lexer": "ipython3",
   "version": "3.9.9"
  },
  "orig_nbformat": 4
 },
 "nbformat": 4,
 "nbformat_minor": 2
}
